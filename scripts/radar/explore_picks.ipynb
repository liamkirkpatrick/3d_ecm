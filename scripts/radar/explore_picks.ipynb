{
 "cells": [
  {
   "cell_type": "markdown",
   "metadata": {},
   "source": [
    "# Script to explore radar picks"
   ]
  },
  {
   "cell_type": "markdown",
   "metadata": {},
   "source": [
    "## Import packages"
   ]
  },
  {
   "cell_type": "code",
   "execution_count": 12,
   "metadata": {},
   "outputs": [],
   "source": [
    "import geopandas as gpd\n",
    "import matplotlib.pyplot as plt\n",
    "from haversine import haversine, Unit\n",
    "import numpy as np\n",
    "import pandas as pd\n"
   ]
  },
  {
   "cell_type": "markdown",
   "metadata": {},
   "source": [
    "## set basic parameters"
   ]
  },
  {
   "cell_type": "code",
   "execution_count": 13,
   "metadata": {},
   "outputs": [],
   "source": [
    "\n",
    "# define cores\n",
    "\n",
    "class core:\n",
    "    def __init__(self, name, lat, lon, depth):\n",
    "        self.name = name\n",
    "        self.lat = lat\n",
    "        self.lon = lon\n",
    "        self.depth = depth\n",
    "\n",
    "    def get_dist_to_track(self,lat,lon):\n",
    "\n",
    "        self.track_dist=10000\n",
    "        for i in range(len(lat)):\n",
    "            d = haversine((lat[i],lon[i]),(self.lat,self.lon),unit=Unit.METERS)\n",
    "            if d < self.track_dist:\n",
    "                self.track_dist = d\n",
    "                self.track_idx = i\n",
    "\n",
    "ALHIC2302 = core('ALHIC2302',-76.74543,159.37513, 143)\n",
    "ALHIC2201 = core('ALHIC2201',-76.732027,159.359551, 90)\n",
    "ALHIC1902 = core('ALHIC1902',-76.745357,159.374108, 206.53)\n",
    "ALHIC1901 = core('ALHIC1901',-76.732376,159.356125, 159.84)\n"
   ]
  },
  {
   "cell_type": "markdown",
   "metadata": {},
   "source": [
    "## Calculate Weighted Percentile"
   ]
  },
  {
   "cell_type": "code",
   "execution_count": 14,
   "metadata": {},
   "outputs": [],
   "source": [
    "# define function for weighted_percentile\n",
    "def weighted_percentile(values, weights, percentiles):\n",
    "    \n",
    "    # Convert percentiles to fractions\n",
    "    percentiles = [p / 100 for p in percentiles]\n",
    "\n",
    "    # Convert values and weights to numpy arrays\n",
    "    values = np.array(values)\n",
    "    weights = np.array(weights)\n",
    "    percentiles = np.array(percentiles)\n",
    "\n",
    "    # Check for NaN values and remove them\n",
    "    nan_mask = np.isnan(values) | np.isnan(weights)\n",
    "    if np.any(nan_mask):\n",
    "        print(\"NaN values found and will be removed.\")\n",
    "    values = values[~nan_mask]\n",
    "    weights = weights[~nan_mask]\n",
    "    \n",
    "    # Sort values and weights by values\n",
    "    sorted_indices = np.argsort(values)\n",
    "    sorted_values = values[sorted_indices]\n",
    "    sorted_weights = weights[sorted_indices]\n",
    "    \n",
    "    # Compute the cumulative sum of weights\n",
    "    cumulative_weights = np.cumsum(sorted_weights)\n",
    "    \n",
    "    # Normalize the cumulative weights to get the cumulative distribution\n",
    "    cumulative_distribution = cumulative_weights / cumulative_weights[-1]\n",
    "    \n",
    "    # Interpolate to find the weighted percentiles\n",
    "    weighted_percentiles = np.interp(percentiles, cumulative_distribution, sorted_values)\n",
    "    \n",
    "    return weighted_percentiles\n",
    "\n",
    "# define function to calculate percentiles from dataframe with true dip angles\n",
    "def calc_percentiles(df,percentiles):\n",
    "\n",
    "    # initialize list to store dip statistics\n",
    "    dip_stats = []\n",
    "    # define if we are looking at AC or DC (AC is default)\n",
    "    ACorDC = 'AC'\n",
    "\n",
    "    # loop through each row in the dataframe\n",
    "    for index,row in df.iterrows():\n",
    "\n",
    "        # pull out approriate data\n",
    "        dip = np.array(row[ACorDC+'-true-angles'])\n",
    "        scores = np.array(row[ACorDC+'-true-scores'])\n",
    "        \n",
    "        # plot dip\n",
    "        a = weighted_percentile(dip, scores, percentiles)\n",
    "       # weighted_percentile(dip, percentiles, weights=scores, interpolation='step')\n",
    "        dip_stats.append(a)\n",
    "\n",
    "        # check\n",
    "        for i in range(len(a)-1):\n",
    "            if a[i]>a[i+1]:\n",
    "                print('Error: Percentiles are not in order in section '+row['section'])\n",
    "\n",
    "    df['dip_percentiles']  = dip_stats\n",
    "    return df"
   ]
  },
  {
   "cell_type": "markdown",
   "metadata": {},
   "source": [
    "## Basic data import and exploration"
   ]
  },
  {
   "cell_type": "code",
   "execution_count": 15,
   "metadata": {},
   "outputs": [
    {
     "name": "stdout",
     "output_type": "stream",
     "text": [
      "Error loading shapefile: The 'read_file' function requires the 'pyogrio' or 'fiona' package, but neither is installed or imports correctly.\n",
      "Importing fiona resulted in: dlopen(/Users/Liam/anaconda3/envs/3D-ECM/lib/python3.12/site-packages/fiona/_env.cpython-312-darwin.so, 0x0002): Library not loaded: @rpath/libpoppler.126.dylib\n",
      "  Referenced from: <05BBD4E6-D83E-35E1-8018-5520577D82A9> /Users/Liam/anaconda3/envs/3D-ECM/lib/libgdal.32.3.6.2.dylib\n",
      "  Reason: tried: '/Users/Liam/anaconda3/envs/3D-ECM/lib/libpoppler.126.dylib' (no such file), '/Users/Liam/anaconda3/envs/3D-ECM/lib/python3.12/site-packages/fiona/../../../libpoppler.126.dylib' (no such file), '/Users/Liam/anaconda3/envs/3D-ECM/lib/python3.12/site-packages/fiona/../../../libpoppler.126.dylib' (no such file), '/Users/Liam/anaconda3/envs/3D-ECM/bin/../lib/libpoppler.126.dylib' (no such file), '/Users/Liam/anaconda3/envs/3D-ECM/bin/../lib/libpoppler.126.dylib' (no such file), '/usr/local/lib/libpoppler.126.dylib' (no such file), '/usr/lib/libpoppler.126.dylib' (no such file, not in dyld cache)\n",
      "Importing pyogrio resulted in: No module named 'pyogrio'\n"
     ]
    },
    {
     "ename": "UnboundLocalError",
     "evalue": "cannot access local variable 'gdf' where it is not associated with a value",
     "output_type": "error",
     "traceback": [
      "\u001b[0;31m---------------------------------------------------------------------------\u001b[0m",
      "\u001b[0;31mUnboundLocalError\u001b[0m                         Traceback (most recent call last)",
      "Cell \u001b[0;32mIn[15], line 30\u001b[0m\n\u001b[1;32m     27\u001b[0m \u001b[38;5;66;03m# Provide the path to the .shp file\u001b[39;00m\n\u001b[1;32m     28\u001b[0m \u001b[38;5;66;03m#shapefile_path = \"../../../radar_picks/picks-v2-culled-2melev.shp\"\u001b[39;00m\n\u001b[1;32m     29\u001b[0m shapefile_path \u001b[38;5;241m=\u001b[39m \u001b[38;5;124m\"\u001b[39m\u001b[38;5;124m../../../radar_picks/picks-v2-culled.shp\u001b[39m\u001b[38;5;124m\"\u001b[39m\n\u001b[0;32m---> 30\u001b[0m gdf \u001b[38;5;241m=\u001b[39m load_shapefile(shapefile_path)\n",
      "Cell \u001b[0;32mIn[15], line 25\u001b[0m, in \u001b[0;36mload_shapefile\u001b[0;34m(file_path)\u001b[0m\n\u001b[1;32m     22\u001b[0m \u001b[38;5;28;01mexcept\u001b[39;00m \u001b[38;5;167;01mException\u001b[39;00m \u001b[38;5;28;01mas\u001b[39;00m e:\n\u001b[1;32m     23\u001b[0m     \u001b[38;5;28mprint\u001b[39m(\u001b[38;5;124mf\u001b[39m\u001b[38;5;124m\"\u001b[39m\u001b[38;5;124mError loading shapefile: \u001b[39m\u001b[38;5;132;01m{\u001b[39;00me\u001b[38;5;132;01m}\u001b[39;00m\u001b[38;5;124m\"\u001b[39m)\n\u001b[0;32m---> 25\u001b[0m \u001b[38;5;28;01mreturn\u001b[39;00m gdf\n",
      "\u001b[0;31mUnboundLocalError\u001b[0m: cannot access local variable 'gdf' where it is not associated with a value"
     ]
    }
   ],
   "source": [
    "# Function to load the shapefile and check basic information\n",
    "def load_shapefile(file_path):\n",
    "    try:\n",
    "        # Load the shapefile using geopandas\n",
    "        gdf = gpd.read_file(file_path)\n",
    "        \n",
    "        # Display basic information about the data\n",
    "        print(\"Loaded shapefile successfully!\")\n",
    "        print(\"Number of features:\", len(gdf))\n",
    "        print(\"CRS (Coordinate Reference System):\", gdf.crs)\n",
    "        print(\"First few rows of the data:\")\n",
    "        print(gdf.head())\n",
    "        \n",
    "        # Show the columns in the shapefile\n",
    "        print(\"\\nColumns in the shapefile:\")\n",
    "        print(gdf.columns)\n",
    "\n",
    "        # You can access the geometry (the spatial component) and attributes here\n",
    "        print(\"\\nSample geometry:\")\n",
    "        print(gdf.geometry.head())\n",
    "\n",
    "    except Exception as e:\n",
    "        print(f\"Error loading shapefile: {e}\")\n",
    "\n",
    "    return gdf\n",
    "\n",
    "# Provide the path to the .shp file\n",
    "#shapefile_path = \"../../../radar_picks/picks-v2-culled-2melev.shp\"\n",
    "shapefile_path = \"../../../radar_picks/picks-v2-culled.shp\"\n",
    "gdf = load_shapefile(shapefile_path)\n"
   ]
  },
  {
   "cell_type": "code",
   "execution_count": null,
   "metadata": {},
   "outputs": [],
   "source": [
    "# tool to find the correct lines\n",
    "\n",
    "fig,ax = plt.subplots(figsize=(14,14))\n",
    "\n",
    "gdf.plot(ax = ax, color='r')\n",
    "\n",
    "lo = 1510 # this is right\n",
    "hi = 1750 # this is right\n",
    "line23 = gdf[lo:hi]\n",
    "line23.plot(ax=ax, color='b')\n",
    "\n",
    "lo = 0 # this is right\n",
    "hi = 437 # this is right\n",
    "line02 = gdf[lo:hi]\n",
    "line02.plot(ax=ax, color='g')\n",
    "\n"
   ]
  },
  {
   "cell_type": "code",
   "execution_count": null,
   "metadata": {},
   "outputs": [],
   "source": [
    "fig,ax = plt.subplots(2,1,figsize=(8,8))\n",
    "\n",
    "for line,name,ax,cores,core_angle in zip([line23,line02],\n",
    "                                         ['Track 23','Track 2'],\n",
    "                                         [ax[0],ax[1]],\n",
    "                                         [[ALHIC2302,ALHIC1902],[ALHIC2201,ALHIC1901]],\n",
    "                                         [alhic2302_angle,alhic2201_angle]):\n",
    "    # Load radar angle data\n",
    "    angles = []\n",
    "    angle_depth = []   \n",
    "    for idx,row in core_angle.iterrows():\n",
    "        percentiles = row['dip_percentiles']\n",
    "        median = percentiles[2]\n",
    "        angle_depth.append(row['depth'])\n",
    "        angles.append(median)\n",
    "        \n",
    "    angle_mean = np.mean(angles)\n",
    "    angle_depth_mean = np.mean(angle_depth)\n",
    "\n",
    "\n",
    "    # Get the latitude, longitude, and depth values\n",
    "    lat = line['Lat()'].to_numpy()\n",
    "    lon = line['Long()'].to_numpy()\n",
    "    depth = line['Layer 1 De'].to_numpy()\n",
    "\n",
    "    # find closest point on line\n",
    "    for core in cores:\n",
    "        core.get_dist_to_track(lat,lon)\n",
    "        print(\" Distance between \"+core.name+\" and line is \",core.track_dist)\n",
    "\n",
    "    # compute distance along track\n",
    "    dist = []\n",
    "    for la,lo in zip(lat,lon):\n",
    "        dist.append(haversine((lat[0],lon[0]),(la,lo),unit=Unit.METERS))\n",
    "\n",
    "    # plot the data\n",
    "    ax.plot(dist,depth,label='Bed Pick (Nestbit & Brook, 2023)')\n",
    "\n",
    "    # plot core location\n",
    "    color = ['r--','k--']\n",
    "    for core,c in zip(cores,color):\n",
    "        label = core.name + ' (~'+str(round(core.track_dist))+' m from track)'\n",
    "        ax.plot([dist[core.track_idx],dist[core.track_idx]],[0,core.depth],c,label=label)\n",
    "\n",
    "\n",
    "\n",
    "    # calculate the bed slope near the core\n",
    "    core = cores[0] # pick relevant core\n",
    "    idx = core.track_idx\n",
    "    dist_min = dist[idx] - 20\n",
    "    dist_max = dist[idx] + 20\n",
    "    idx_min = int(round(np.interp(dist_min,dist,range(len(dist)))))\n",
    "    idx_max = int(round(np.interp(dist_max,dist,range(len(dist)))))\n",
    "    slope = abs((depth[idx_max] - depth[idx_min])/(dist[idx_max] - dist[idx_min]))\n",
    "    dip = np.arctan(slope)*180/np.pi\n",
    "    print('Bed slope near '+core.name+' is ',slope,' or ',dip,' degrees')\n",
    "\n",
    "    # Plot ECM angle\n",
    "    hor = (dist[idx_max] - dist[idx_min])/2\n",
    "    if name == 'Track 23':\n",
    "        mult = 1\n",
    "    else:\n",
    "        mult = -1\n",
    "    offset = hor * np.tan(angle_mean*np.pi/180)\n",
    "    ax.plot([dist[idx_min],dist[idx_max]],\n",
    "            [angle_depth_mean-offset*mult,angle_depth_mean+offset*mult],\n",
    "            'r',\n",
    "            label = 'Average ECM Layer Slope ('+str(round(angle_mean,1))+' degrees)')\n",
    "\n",
    "\n",
    "    # plot the bed slope\n",
    "    ax.plot([dist[idx_min],dist[idx_max]],[depth[idx_min],depth[idx_max]],\n",
    "            'g',\n",
    "            label='Bed Slope under '+core.name+' ('+str(round(dip,1))+' degrees)',\n",
    "            linewidth=4)\n",
    "\n",
    "    # set axis to equal scale\n",
    "    ax.axis('equal')\n",
    "\n",
    "    # apply x axis limits\n",
    "    if name == 'Track 23':\n",
    "        ax.set_xlim(0,800)\n",
    "        ax.legend(loc='upper right')\n",
    "    else:\n",
    "        ax.set_xlim(0,800)\n",
    "        ax.legend(loc='lower right')\n",
    "\n",
    "\n",
    "    # plot housekeeping\n",
    "    title = name + ' - ' + cores[0].name +'/'+cores[1].name \n",
    "    ax.set_title(title)\n",
    "    ax.set_xlabel('Distance along track (m)')\n",
    "    ax.set_ylabel('Depth (m)')\n",
    "    ax.set_ylim(300,0)\n",
    "    ax.grid(True)\n",
    "\n",
    "fig.tight_layout()\n",
    "\n",
    "# get size\n",
    "#sz = fig.get_size_inches()\n",
    "#fig.set_size_inches(sz[0]*1.5, sz[1]*1.5)"
   ]
  },
  {
   "cell_type": "code",
   "execution_count": null,
   "metadata": {},
   "outputs": [],
   "source": [
    "row"
   ]
  },
  {
   "cell_type": "code",
   "execution_count": null,
   "metadata": {},
   "outputs": [],
   "source": [
    "core.name"
   ]
  },
  {
   "cell_type": "code",
   "execution_count": null,
   "metadata": {},
   "outputs": [],
   "source": [
    "fig.get_size_inches()"
   ]
  },
  {
   "cell_type": "code",
   "execution_count": null,
   "metadata": {},
   "outputs": [],
   "source": []
  }
 ],
 "metadata": {
  "kernelspec": {
   "display_name": "3D-ECM",
   "language": "python",
   "name": "python3"
  },
  "language_info": {
   "codemirror_mode": {
    "name": "ipython",
    "version": 3
   },
   "file_extension": ".py",
   "mimetype": "text/x-python",
   "name": "python",
   "nbconvert_exporter": "python",
   "pygments_lexer": "ipython3",
   "version": "3.12.2"
  }
 },
 "nbformat": 4,
 "nbformat_minor": 2
}
