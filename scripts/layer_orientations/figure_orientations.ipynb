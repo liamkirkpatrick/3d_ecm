{
 "cells": [
  {
   "cell_type": "markdown",
   "metadata": {},
   "source": [
    "# Temporary Script to figure out orientations on ALHIC2302 Core Sections"
   ]
  },
  {
   "cell_type": "code",
   "execution_count": 1,
   "metadata": {},
   "outputs": [
    {
     "name": "stdout",
     "output_type": "stream",
     "text": [
      "Intel MKL WARNING: Support of Intel(R) Streaming SIMD Extensions 4.2 (Intel(R) SSE4.2) enabled only processors has been deprecated. Intel oneAPI Math Kernel Library 2025.0 will require Intel(R) Advanced Vector Extensions (Intel(R) AVX) instructions.\n",
      "Intel MKL WARNING: Support of Intel(R) Streaming SIMD Extensions 4.2 (Intel(R) SSE4.2) enabled only processors has been deprecated. Intel oneAPI Math Kernel Library 2025.0 will require Intel(R) Advanced Vector Extensions (Intel(R) AVX) instructions.\n"
     ]
    }
   ],
   "source": [
    "# general\n",
    "import numpy as np\n",
    "import pandas as pd\n",
    "import math\n",
    "from scipy import stats\n",
    "\n",
    "# plotting\n",
    "import matplotlib\n",
    "import matplotlib.pyplot as plt\n",
    "from matplotlib.patches import Rectangle\n",
    "\n",
    "# math\n",
    "from statsmodels.stats.weightstats import DescrStatsW"
   ]
  },
  {
   "cell_type": "code",
   "execution_count": 2,
   "metadata": {},
   "outputs": [],
   "source": [
    "path_to_angles = '../../data/angles/'\n",
    "path_to_figures = '../../figures/paper_figures/'"
   ]
  },
  {
   "cell_type": "code",
   "execution_count": 3,
   "metadata": {},
   "outputs": [],
   "source": [
    "alhic2302 = pd.read_pickle(path_to_angles+'alhic2302_angles.df')\n",
    "alhic2201 = pd.read_pickle(path_to_angles+'alhic2201_angles.df')"
   ]
  },
  {
   "cell_type": "markdown",
   "metadata": {},
   "source": [
    "## Check ALHIC2302\n",
    "\n",
    "We see that the 't' face is negative, as it shoudl be, but the l face is positive where it should be negative. This means we need to add 90 degrees."
   ]
  },
  {
   "cell_type": "code",
   "execution_count": 4,
   "metadata": {},
   "outputs": [
    {
     "name": "stdout",
     "output_type": "stream",
     "text": [
      "AC-l-angles\n",
      "    mean: 26.68666666666667\n",
      "    median: 27.30000000000001\n",
      "    min: 14.200000000000003\n",
      "    max: 39.0\n",
      "AC-t-angles\n",
      "    mean: -60.79333333333332\n",
      "    median: -60.9\n",
      "    min: -61.6\n",
      "    max: -59.4\n"
     ]
    }
   ],
   "source": [
    " # filter for row of alhic2302 where section = 28\n",
    "alhic2302_row = alhic2302[alhic2302['section'] == '28']\n",
    "\n",
    "# assign all non-nan AC-l-angles to nupy vector\n",
    "l_angles = alhic2302_row['AC-l-angles'].dropna().to_list()\n",
    "\n",
    "# report basic statistics on AC-l-angles\t\n",
    "print('AC-l-angles')\n",
    "print('    mean:', np.mean(l_angles))\n",
    "print('    median:', np.median(l_angles))\n",
    "print('    min:', np.min(l_angles))\n",
    "print('    max:', np.max(l_angles))\n",
    "\n",
    "# assign all non-nan AC-l-angles to nupy vector\n",
    "t_angles = alhic2302_row['AC-t-angles'].dropna().to_list()\n",
    "\n",
    "# report basic statistics on AC-l-angles\t\n",
    "print('AC-t-angles')\n",
    "print('    mean:', np.mean(t_angles))\n",
    "print('    median:', np.median(t_angles))\n",
    "print('    min:', np.min(t_angles))\n",
    "print('    max:', np.max(t_angles))\n"
   ]
  },
  {
   "cell_type": "markdown",
   "metadata": {},
   "source": [
    "## Check ALHIC2201\n",
    "\n",
    "Here, we find 'r' is negative as it shoudl be, but 't' is positive when it should be negative."
   ]
  },
  {
   "cell_type": "code",
   "execution_count": 5,
   "metadata": {},
   "outputs": [
    {
     "name": "stdout",
     "output_type": "stream",
     "text": [
      "AC-r-angles\n",
      "    mean: -29.900000000000002\n",
      "    median: -30.249999999999996\n",
      "    min: -35.5\n",
      "    max: -24.0\n",
      "AC-t-angles\n",
      "    mean: 20.74666666666667\n",
      "    median: 21.10000000000001\n",
      "    min: 10.200000000000003\n",
      "    max: 32.0\n"
     ]
    }
   ],
   "source": [
    " # filter for row of alhic2302 where section = 28\n",
    "alhic2201_row = alhic2201[alhic2201['section'] == '11_1']\n",
    "\n",
    "# assign all non-nan AC-l-angles to nupy vector\n",
    "r_angles = alhic2201_row['AC-r-angles'].dropna().to_list()\n",
    "\n",
    "# report basic statistics on AC-l-angles\t\n",
    "print('AC-r-angles')\n",
    "print('    mean:', np.mean(r_angles))\n",
    "print('    median:', np.median(r_angles))\n",
    "print('    min:', np.min(r_angles))\n",
    "print('    max:', np.max(r_angles))\n",
    "\n",
    "# assign all non-nan AC-l-angles to nupy vector\n",
    "t_angles = alhic2201_row['AC-t-angles'].dropna().to_list()\n",
    "\n",
    "# report basic statistics on AC-l-angles\t\n",
    "print('AC-t-angles')\n",
    "print('    mean:', np.mean(t_angles))\n",
    "print('    median:', np.median(t_angles))\n",
    "print('    min:', np.min(t_angles))\n",
    "print('    max:', np.max(t_angles))"
   ]
  },
  {
   "cell_type": "code",
   "execution_count": null,
   "metadata": {},
   "outputs": [],
   "source": []
  }
 ],
 "metadata": {
  "kernelspec": {
   "display_name": "ecm",
   "language": "python",
   "name": "python3"
  },
  "language_info": {
   "codemirror_mode": {
    "name": "ipython",
    "version": 3
   },
   "file_extension": ".py",
   "mimetype": "text/x-python",
   "name": "python",
   "nbconvert_exporter": "python",
   "pygments_lexer": "ipython3",
   "version": "3.11.4"
  }
 },
 "nbformat": 4,
 "nbformat_minor": 2
}
